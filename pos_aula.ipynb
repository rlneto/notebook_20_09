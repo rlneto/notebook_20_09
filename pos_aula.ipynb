{
 "cells": [
  {
   "cell_type": "markdown",
   "metadata": {},
   "source": [
    "2 – A empresa Celulose S.A est´a querendo aumentar a sua produ¸c˜ao atrav´es\n",
    "de novos investimentos em suas plantas.\n",
    "Com isso, a empresa possui dois\n",
    "poss´ıveis projetos para investir no seu crescimento. Analisando os projetos ao\n",
    "longo do per´ıodo responda:\n",
    "Per´ıodo\n",
    "Projeto A\n",
    "Projeto B\n",
    "0\n",
    "-$850.000,00\n",
    "-$450.000,00\n",
    "1\n",
    "$120.000,000\n",
    "$200.000,00\n",
    "2\n",
    "$225.000,00\n",
    "$400.000,00\n",
    "3\n",
    "$400.000,00\n",
    "$130.000,00\n",
    "4\n",
    "$420.000,00\n",
    "$380.000,00\n",
    "5\n",
    "$500.000,00\n",
    "$500.000,00\n",
    "3\n",
    "a) Qual o Payback dos dois projetos, desconsiderando o custo de capital?\n",
    "b) Considerando uma taxa de retorno de 12% por per´ıodo, qual seria o payback de cada\n",
    "projeto?\n",
    "Resposta: a)Projeto A: 3,25 per´ıodos; Projeto B: 1,625 per´ıodos.\n",
    "b)Projeto A: 4,04 per´ıodos; Projeto B: 1,85 per´ıodos."
   ]
  },
  {
   "cell_type": "code",
   "execution_count": 36,
   "metadata": {},
   "outputs": [
    {
     "name": "stdout",
     "output_type": "stream",
     "text": [
      "Resposta a)\n",
      "O payback do projeto A é de 3.25 períodos.\n",
      "O payback do projeto B é de 1.62 períodos.\n"
     ]
    }
   ],
   "source": [
    "def calc_pb_desc (fluxo: list, taxa: float) -> int:\n",
    "    soma = 0\n",
    "    for periodo in range(1, len(fluxo)):\n",
    "        if (soma + fluxo[periodo] / ((1 + taxa)**periodo)) > abs(fluxo[0]):\n",
    "            return periodo - 1 + (abs(fluxo[0]) - soma) / (fluxo[periodo] / ((1 + taxa)**periodo))\n",
    "        else:\n",
    "            soma += fluxo[periodo] / ((1 + taxa)**periodo)\n",
    "        \n",
    "\n",
    "p_a = [-850, 120, 225, 400, 420, 500]\n",
    "p_b = [-450, 200, 400, 130, 380, 500]\n",
    "p_a = [x * 1000 for x in p_a]\n",
    "p_b = [x * 1000 for x in p_b]\n",
    "\n",
    "print(\"Resposta a)\")\n",
    "print(\"O payback do projeto A é de\", round(calc_pb_desc(p_a, 0), 2) ,\"períodos.\")\n",
    "print(\"O payback do projeto B é de\", round(calc_pb_desc(p_b,0),2), \"períodos.\")"
   ]
  },
  {
   "cell_type": "code",
   "execution_count": 31,
   "metadata": {},
   "outputs": [
    {
     "name": "stdout",
     "output_type": "stream",
     "text": [
      "Resposta b)\n",
      "O payback do projeto A é de 4.04 períodos.\n",
      "O payback do projeto B é de 1.85 períodos.\n"
     ]
    }
   ],
   "source": [
    "def calc_pb_desc (fluxo: list, taxa: float) -> int:\n",
    "    soma = 0\n",
    "    for periodo in range(1, len(fluxo)):\n",
    "        if (soma + fluxo[periodo] / ((1 + taxa)**periodo)) > abs(fluxo[0]):\n",
    "            return periodo - 1 + (abs(fluxo[0]) - soma) / (fluxo[periodo] / ((1 + taxa)**periodo))\n",
    "        else:\n",
    "            soma += fluxo[periodo] / ((1 + taxa)**periodo)\n",
    "        \n",
    "p_a = [-850, 120, 225, 400, 420, 500]\n",
    "p_b = [-450, 200, 400, 130, 380, 500]\n",
    "p_a = [x * 1000 for x in p_a]\n",
    "p_b = [x * 1000 for x in p_b]\n",
    "\n",
    "print(\"Resposta b)\")\n",
    "\n",
    "print(\"O payback do projeto A é de\", round(calc_pb_desc(p_a, 0.12),2), \"períodos.\")\n",
    "print(\"O payback do projeto B é de\", round(calc_pb_desc(p_b, 0.12),2), \"períodos.\")"
   ]
  },
  {
   "cell_type": "markdown",
   "metadata": {},
   "source": [
    "3 – Vocˆe acabou de comprar um carro, no valor de R$35.000,00, com o obje-\n",
    "tivo de alugar para uma terceirizadora de frota que est´a oferecendo um valor\n",
    "de R$900,00 mensais. Sabendo que um Fundo de Investimento Conservador\n",
    "para deixar seu dinheiro parado possui 7% de retorno anual, qual seria o pay-\n",
    "back real do seu carro?\n",
    "Resposta: 3,8 anos"
   ]
  },
  {
   "cell_type": "code",
   "execution_count": 15,
   "metadata": {},
   "outputs": [
    {
     "name": "stdout",
     "output_type": "stream",
     "text": [
      "O payback real é de 45 meses.\n"
     ]
    }
   ],
   "source": [
    "def calc_pb_desc (fluxo: list, taxa: float) -> int:\n",
    "    soma = 0\n",
    "    for periodo in range(len(fluxo)):\n",
    "        soma += fluxo[periodo] / ((1 + taxa)**periodo)\n",
    "        if soma > 0:\n",
    "            return periodo\n",
    "        \n",
    "pmts = [900.0 for _ in range (1000)]\n",
    "pmts[0] = -35000.0\n",
    "\n",
    "taxa_real = -1 + (1 + 0.07) ** (1/12)\n",
    "\n",
    "print(\"O payback real é de\", calc_pb_desc(pmts, taxa_real), \"meses.\")"
   ]
  },
  {
   "cell_type": "markdown",
   "metadata": {},
   "source": [
    "4 - Uma empresa de investimentos est´a avaliando os projetos listados abaixo,\n",
    "considerando um custo de capital de 20% ao ano. Segundo o crit´erio do pay-\n",
    "back descontado qual o projeto a ser investido pela empresa?\n",
    "Projeto\n",
    "Inicial\n",
    "Ano 1\n",
    "Ano 2\n",
    "Ano 3\n",
    "A\n",
    "-R$8.000,00\n",
    "R$3.500,00\n",
    "R$4.000,00\n",
    "R$4.000,00\n",
    "B\n",
    "-R$6.000,00\n",
    "R$2.900,00\n",
    "R$4.400,00\n",
    "R$1.000,00\n",
    "C\n",
    "-R$4.000,00\n",
    "R$4.000,00\n",
    "R$1.500,00\n",
    "R$1.000,00\n",
    "D\n",
    "-R$2.000,00\n",
    "R$667,00\n",
    "R$1.800,00\n",
    "R$667,00\n",
    "E\n",
    "-R$1.000,00\n",
    "R$650,00\n",
    "R$730,00\n",
    "R$0,00\n",
    "Resposta: Projeto C (1,64 ano)"
   ]
  },
  {
   "cell_type": "code",
   "execution_count": 37,
   "metadata": {},
   "outputs": [
    {
     "name": "stdout",
     "output_type": "stream",
     "text": [
      "Projeto A:  2.996\n",
      "Projeto B:  2.912\n",
      "Projeto C:  1.64\n",
      "Projeto D:  2.503\n",
      "Projeto E:  1.904\n"
     ]
    }
   ],
   "source": [
    "def calc_pb_desc (fluxo: list, taxa: float) -> int:\n",
    "    soma = 0\n",
    "    for periodo in range(1, len(fluxo)):\n",
    "        if (soma + fluxo[periodo] / ((1 + taxa)**periodo)) > abs(fluxo[0]):\n",
    "            return periodo - 1 + (abs(fluxo[0]) - soma) / (fluxo[periodo] / ((1 + taxa)**periodo))\n",
    "        else:\n",
    "            soma += fluxo[periodo] / ((1 + taxa)**periodo)\n",
    "\n",
    "a = [-8000, 3500, 4000, 4000]\n",
    "b = [-6000, 2900, 4400, 1000]\n",
    "c = [-4000, 4000, 1500, 1000]\n",
    "d = [-2000, 667, 1800, 667]\n",
    "e = [-1000, 650, 730, 0]\n",
    "\n",
    "print(\"Projeto A: \", round(calc_pb_desc(a, 0.2), 3))\n",
    "print(\"Projeto B: \", round(calc_pb_desc(b, 0.2), 3))\n",
    "print(\"Projeto C: \", round(calc_pb_desc(c, 0.2), 3))\n",
    "print(\"Projeto D: \", round(calc_pb_desc(d, 0.2), 3))\n",
    "print(\"Projeto E: \", round(calc_pb_desc(e, 0.2), 3))\n"
   ]
  },
  {
   "cell_type": "markdown",
   "metadata": {},
   "source": [
    "Resposta: Projeto C (1,64 ano)"
   ]
  },
  {
   "cell_type": "markdown",
   "metadata": {},
   "source": [
    "5- Um grupo de Investidores est˜ao analisando a compra de um empreendi-\n",
    "mento comercial, com valor de mercado de 1,5 milh˜oes de reais, que j´a pos-\n",
    "sui locat´arios fixados.\n",
    "Sabendo que os contratos feitos nas salas comerciais\n",
    "s˜ao longos, os investidores acreditam que ir˜ao receber dos locat´arios atuais\n",
    "R$400.000,00 anuais de alugueis nos pr´oximos 5 anos. Entretanto, uma das\n",
    "premissas do grupo ´e o tempo de retorno seja de 2,5 anos.\n",
    "Sabendo que grande parte deles j´a investem em fundos que tem a rentabilidade de 10% ao\n",
    "ano, qual o acr´escimo do Fluxo de Caixa no primeiro ano deve ter para que o\n",
    "investimento seja vi´avel?\n",
    "Resposta: Aproximadamente R$721.000,00"
   ]
  },
  {
   "cell_type": "code",
   "execution_count": 44,
   "metadata": {},
   "outputs": [
    {
     "name": "stdout",
     "output_type": "stream",
     "text": [
      "O acréscimo no caixa inicial é de 694214.88 reais.\n"
     ]
    }
   ],
   "source": [
    "def calc_caixa_inicial (fluxo: list, taxa: float) -> int:\n",
    "    soma = 0\n",
    "    for periodo in range(1, 3):\n",
    "        soma += fluxo[periodo] / ((1 + taxa)**periodo)\n",
    "    return soma\n",
    "\n",
    "fluxo = [1500000, 400000, 400000, 400000]\n",
    "\n",
    "print(\"O acréscimo no caixa inicial é de\", round(calc_caixa_inicial(fluxo, 0.1), 2), \"reais.\")"
   ]
  },
  {
   "cell_type": "code",
   "execution_count": null,
   "metadata": {},
   "outputs": [],
   "source": []
  }
 ],
 "metadata": {
  "kernelspec": {
   "display_name": "Python 3 (ipykernel)",
   "language": "python",
   "name": "python3"
  },
  "language_info": {
   "codemirror_mode": {
    "name": "ipython",
    "version": 3
   },
   "file_extension": ".py",
   "mimetype": "text/x-python",
   "name": "python",
   "nbconvert_exporter": "python",
   "pygments_lexer": "ipython3",
   "version": "3.11.5"
  }
 },
 "nbformat": 4,
 "nbformat_minor": 2
}
